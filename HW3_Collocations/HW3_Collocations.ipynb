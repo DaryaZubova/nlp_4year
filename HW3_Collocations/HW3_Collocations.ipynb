{
 "cells": [
  {
   "cell_type": "code",
   "execution_count": 25,
   "metadata": {
    "collapsed": true
   },
   "outputs": [],
   "source": [
    "import pandas as pd\n",
    "import nltk\n",
    "from nltk.collocations import *\n",
    "from scipy.stats import spearmanr"
   ]
  },
  {
   "cell_type": "code",
   "execution_count": 26,
   "metadata": {
    "collapsed": true
   },
   "outputs": [],
   "source": [
    "df = pd.read_csv('court-V-N.csv') # corpus\n",
    "rows = list(map(list, df.values)) # list of rows in corpus\n",
    "bigram_measures = nltk.collocations.BigramAssocMeasures()\n",
    "finder = BigramCollocationFinder.from_documents(rows)\n",
    "finder.apply_freq_filter(5)"
   ]
  },
  {
   "cell_type": "markdown",
   "metadata": {},
   "source": [
    "1) Объем корпуса и объем корпуса в токенах"
   ]
  },
  {
   "cell_type": "code",
   "execution_count": 27,
   "metadata": {},
   "outputs": [
    {
     "data": {
      "text/plain": [
       "1019"
      ]
     },
     "execution_count": 27,
     "metadata": {},
     "output_type": "execute_result"
    }
   ],
   "source": [
    "len(rows)"
   ]
  },
  {
   "cell_type": "code",
   "execution_count": 28,
   "metadata": {},
   "outputs": [
    {
     "data": {
      "text/plain": [
       "5095"
      ]
     },
     "execution_count": 28,
     "metadata": {},
     "output_type": "execute_result"
    }
   ],
   "source": [
    "tokens = sum([len(t) for t in rows])\n",
    "tokens"
   ]
  },
  {
   "cell_type": "markdown",
   "metadata": {},
   "source": [
    "2) Золотой стандарт"
   ]
  },
  {
   "cell_type": "code",
   "execution_count": 29,
   "metadata": {},
   "outputs": [],
   "source": [
    "golden_stand = [(('ЛИШЕНИЕ','СВОБОДА'),1), (('ВЫНЕСТИ','РЕШЕНИЕ'),2), (('ВЫНЕСТИ','ПРИГОВОР'),3), \n",
    "                (('НАЗНАЧИТЬ','СРОК'),4), (('УДОВЛЕТВОРИТЬ','ХОДАТАЙСТВО'),5), \n",
    "                (('УДОВЛЕТВОРИТЬ','ИСК'),6), (('РАССМАТРИВАТЬ','ДЕЛО'),7), (('НАЛОЖИТЬ','АРЕСТ'),8), \n",
    "                (('ОБЖАЛОВАТЬ','ПРИГОВОР'),9), (('ПРЕКРАТИТЬ','ДЕЛО'),10)]"
   ]
  },
  {
   "cell_type": "markdown",
   "metadata": {},
   "source": [
    "PMI"
   ]
  },
  {
   "cell_type": "code",
   "execution_count": 30,
   "metadata": {
    "collapsed": true
   },
   "outputs": [],
   "source": [
    "#pmi = finder.nbest(bigram_measures.pmi, 10)\n",
    "pmi_score = finder.score_ngrams(bigram_measures.pmi)\n",
    "pmi = [x[0] for i,x in enumerate(pmi_score[:10])]"
   ]
  },
  {
   "cell_type": "code",
   "execution_count": 31,
   "metadata": {},
   "outputs": [
    {
     "data": {
      "text/plain": [
       "[('ОСВОБОДИТЬ ', 'ЗАЛОГ '),\n",
       " ('ЛИШЕНИЕ ', 'СВОБОДА '),\n",
       " ('ПРОЙТИ ', 'ПРЕНИЕ '),\n",
       " ('МЕРА ', 'ПРЕСЕЧЕНИЕ '),\n",
       " ('ИЗБРАТЬ ', 'МЕРА '),\n",
       " ('ВЫДАТЬ ', 'САНКЦИЯ '),\n",
       " ('ОСТАВИТЬ ', 'СИЛА '),\n",
       " ('АРЕСТОВАТЬ ', 'АКЦИЯ '),\n",
       " ('СОГЛАСИТЬСЯ ', 'ДОВОД '),\n",
       " ('НАЧАТЬСЯ ', 'РАССМОТРЕНИЕ ')]"
      ]
     },
     "execution_count": 31,
     "metadata": {},
     "output_type": "execute_result"
    }
   ],
   "source": [
    "pmi"
   ]
  },
  {
   "cell_type": "markdown",
   "metadata": {},
   "source": [
    "Из выданных топ-коллокаций в мой ЗС не попали все, кроме ('ЛИШЕНИЕ ', 'СВОБОДА '). Можно было бы включить в ЗС: ('МЕРА ', 'ПРЕСЕЧЕНИЕ '), ('ВЫДАТЬ ', 'САНКЦИЯ '), остальные мне кажутся не такими уж определяющими (особенно коллокации вроде ('ОСТАВИТЬ ', 'СИЛА ') и ('СОГЛАСИТЬСЯ ', 'ДОВОД '), выглядят немного странно)."
   ]
  },
  {
   "cell_type": "markdown",
   "metadata": {},
   "source": [
    "Chi-square"
   ]
  },
  {
   "cell_type": "code",
   "execution_count": 32,
   "metadata": {
    "collapsed": true
   },
   "outputs": [],
   "source": [
    "chi_score = finder.score_ngrams(bigram_measures.chi_sq)\n",
    "chi = [x[0] for i,x in enumerate(chi_score[:10])]"
   ]
  },
  {
   "cell_type": "code",
   "execution_count": 33,
   "metadata": {},
   "outputs": [
    {
     "data": {
      "text/plain": [
       "[('ОСВОБОДИТЬ ', 'ЗАЛОГ '),\n",
       " ('МЕРА ', 'ПРЕСЕЧЕНИЕ '),\n",
       " ('ЛИШЕНИЕ ', 'СВОБОДА '),\n",
       " ('ПРОЙТИ ', 'ПРЕНИЕ '),\n",
       " ('ВЫДАТЬ ', 'САНКЦИЯ '),\n",
       " ('ИЗБРАТЬ ', 'МЕРА '),\n",
       " ('САНКЦИЯ ', 'АРЕСТ '),\n",
       " ('ОСТАВИТЬ ', 'СИЛА '),\n",
       " ('НАЛОЖИТЬ ', 'АРЕСТ '),\n",
       " ('УДОВЛЕТВОРИТЬ ', 'ХОДАТАЙСТВО ')]"
      ]
     },
     "execution_count": 33,
     "metadata": {},
     "output_type": "execute_result"
    }
   ],
   "source": [
    "chi"
   ]
  },
  {
   "cell_type": "markdown",
   "metadata": {},
   "source": [
    "Из выданных методом хи-квадрат коллокаций с моим ЗС совпали три коллокации: ('ЛИШЕНИЕ ', 'СВОБОДА '), ('УДОВЛЕТВОРИТЬ ', 'ХОДАТАЙСТВО '), ('НАЛОЖИТЬ ', 'АРЕСТ '), что в принципе неплохо, однако также можно было бы включить в ЗС, как и после PMI следующие коллокации: ('МЕРА ', 'ПРЕСЕЧЕНИЕ '), ('ВЫДАТЬ ', 'САНКЦИЯ '). "
   ]
  },
  {
   "cell_type": "code",
   "execution_count": 35,
   "metadata": {
    "collapsed": true
   },
   "outputs": [],
   "source": [
    "from nltk.metrics.spearman import *"
   ]
  },
  {
   "cell_type": "code",
   "execution_count": 41,
   "metadata": {},
   "outputs": [
    {
     "name": "stdout",
     "output_type": "stream",
     "text": [
      "0.0\n"
     ]
    }
   ],
   "source": [
    "print('%0.1f' % spearman_correlation(ranks_from_sequence(golden_stand), ranks_from_sequence(pmi)))"
   ]
  },
  {
   "cell_type": "code",
   "execution_count": 42,
   "metadata": {},
   "outputs": [
    {
     "name": "stdout",
     "output_type": "stream",
     "text": [
      "0.0\n"
     ]
    }
   ],
   "source": [
    "print('%0.1f' % spearman_correlation(ranks_from_sequence(golden_stand), ranks_from_sequence(chi)))"
   ]
  }
 ],
 "metadata": {
  "kernelspec": {
   "display_name": "Python 3",
   "language": "python",
   "name": "python3"
  },
  "language_info": {
   "codemirror_mode": {
    "name": "ipython",
    "version": 3
   },
   "file_extension": ".py",
   "mimetype": "text/x-python",
   "name": "python",
   "nbconvert_exporter": "python",
   "pygments_lexer": "ipython3",
   "version": "3.6.2"
  }
 },
 "nbformat": 4,
 "nbformat_minor": 1
}
