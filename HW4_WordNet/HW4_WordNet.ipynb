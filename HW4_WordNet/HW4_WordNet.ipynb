{
 "cells": [
  {
   "cell_type": "markdown",
   "metadata": {},
   "source": [
    "1) Найти все значения (синсеты) для лексемы bank"
   ]
  },
  {
   "cell_type": "code",
   "execution_count": 5,
   "metadata": {},
   "outputs": [
    {
     "name": "stdout",
     "output_type": "stream",
     "text": [
      "Synset('bank.n.01') sloping land (especially the slope beside a body of water)\n",
      "Synset('depository_financial_institution.n.01') a financial institution that accepts deposits and channels the money into lending activities\n",
      "Synset('bank.n.03') a long ridge or pile\n",
      "Synset('bank.n.04') an arrangement of similar objects in a row or in tiers\n",
      "Synset('bank.n.05') a supply or stock held in reserve for future use (especially in emergencies)\n",
      "Synset('bank.n.06') the funds held by a gambling house or the dealer in some gambling games\n",
      "Synset('bank.n.07') a slope in the turn of a road or track; the outside is higher than the inside in order to reduce the effects of centrifugal force\n",
      "Synset('savings_bank.n.02') a container (usually with a slot in the top) for keeping money at home\n",
      "Synset('bank.n.09') a building in which the business of banking transacted\n",
      "Synset('bank.n.10') a flight maneuver; aircraft tips laterally about its longitudinal axis (especially in turning)\n",
      "Synset('bank.v.01') tip laterally\n",
      "Synset('bank.v.02') enclose with a bank\n",
      "Synset('bank.v.03') do business with a bank or keep an account at a bank\n",
      "Synset('bank.v.04') act as the banker in a game or in gambling\n",
      "Synset('bank.v.05') be in the banking business\n",
      "Synset('deposit.v.02') put into a bank account\n",
      "Synset('bank.v.07') cover with ashes so to control the rate of burning\n",
      "Synset('trust.v.01') have confidence or faith in\n"
     ]
    }
   ],
   "source": [
    "from nltk.corpus import wordnet\n",
    "\n",
    "bank = wordnet.synsets('bank')\n",
    "for ss in bank:\n",
    "    print(ss, ss.definition())"
   ]
  },
  {
   "cell_type": "markdown",
   "metadata": {},
   "source": [
    "2) Найти определение для лексемы bank в значении (а) \"берег\" и в значении (b) \"банк\""
   ]
  },
  {
   "cell_type": "code",
   "execution_count": 6,
   "metadata": {},
   "outputs": [
    {
     "name": "stdout",
     "output_type": "stream",
     "text": [
      "Synset('bank.n.01') sloping land (especially the slope beside a body of water)\n",
      "Synset('depository_financial_institution.n.01') a financial institution that accepts deposits and channels the money into lending activities\n"
     ]
    }
   ],
   "source": [
    "print(bank[0], bank[0].definition())\n",
    "print(bank[1], bank[1].definition())"
   ]
  },
  {
   "cell_type": "markdown",
   "metadata": {},
   "source": [
    "3) Найдите два произвольных контекста для слова bank в значениях (a) \"берег\" и (b) \"банк\"; продемонстрируйте на них действие алгоритма Леска для разрешения неоднозначности"
   ]
  },
  {
   "cell_type": "code",
   "execution_count": 7,
   "metadata": {},
   "outputs": [
    {
     "name": "stdout",
     "output_type": "stream",
     "text": [
      "['Several', 'interviewees', 'said', 'they', 'had', 'been', 'taken', 'to', 'a', 'river', 'bank', 'and', 'threatened', 'with', 'drowning', 'if', 'they', 'did', 'not', 'confess']\n",
      "['The', 'bank', 'did', 'not', 'agree', 'to', 'cover', 'the', 'expenses', 'for', 'transferring', 'the', 'loan']\n"
     ]
    }
   ],
   "source": [
    "sent1 = 'Several interviewees said they had been taken to a river bank and threatened with drowning if they did not confess.'\n",
    "sent2 = 'The bank did not agree to cover the expenses for transferring the loan.'\n",
    "\n",
    "sent1_tokens = [word.strip('.,') for word in sent1.split(' ')]\n",
    "sent2_tokens = [word.strip('.,') for word in sent2.split(' ')]\n",
    "print(sent1_tokens)\n",
    "print(sent2_tokens)"
   ]
  },
  {
   "cell_type": "code",
   "execution_count": 8,
   "metadata": {},
   "outputs": [
    {
     "name": "stdout",
     "output_type": "stream",
     "text": [
      "do business with a bank or keep an account at a bank\n",
      "cover with ashes so to control the rate of burning\n"
     ]
    }
   ],
   "source": [
    "from nltk.wsd import lesk\n",
    "print(lesk(sent1_tokens, 'bank').definition())\n",
    "print(lesk(sent2_tokens, 'bank').definition())"
   ]
  },
  {
   "cell_type": "markdown",
   "metadata": {},
   "source": [
    "Алгоритм Леска ошибся в обоих случаях, хотя определение для первого значения довольно похоже на определение для второго значения. "
   ]
  },
  {
   "cell_type": "code",
   "execution_count": 9,
   "metadata": {},
   "outputs": [
    {
     "name": "stdout",
     "output_type": "stream",
     "text": [
      "a container (usually with a slot in the top) for keeping money at home\n",
      "a container (usually with a slot in the top) for keeping money at home\n"
     ]
    }
   ],
   "source": [
    "print(lesk(sent1_tokens, 'bank', 'n').definition())\n",
    "print(lesk(sent2_tokens, 'bank', 'n').definition())"
   ]
  },
  {
   "cell_type": "markdown",
   "metadata": {},
   "source": [
    "В принципе, под одно из значений определение немного подходит, но все же не то, все равно."
   ]
  },
  {
   "cell_type": "markdown",
   "metadata": {},
   "source": [
    "4) Найдите гиперонимы для значения (a) и гиперонимы для значения (b)"
   ]
  },
  {
   "cell_type": "code",
   "execution_count": 10,
   "metadata": {},
   "outputs": [
    {
     "name": "stdout",
     "output_type": "stream",
     "text": [
      "Synset('slope.n.01') an elevated geological formation\n",
      "Synset('financial_institution.n.01') an institution (public or private) that collects funds (from the public or other institutions) and invests them in financial assets\n"
     ]
    }
   ],
   "source": [
    "for ss in bank[0].hypernyms():\n",
    "    print(ss, ss.definition())\n",
    "for ss in bank[1].hypernyms():\n",
    "    print(ss, ss.definition())"
   ]
  },
  {
   "cell_type": "markdown",
   "metadata": {},
   "source": [
    "5) Вычислите наименьшее расстояние между значением bank \"берег\" и значениями лексемы shore, а также bank \"банк\" и значениями лексемы storage. Найти min (d(bank: \"берег\", shore), d(bank: \"банк\", storage)), а также min (d(bank: \"берег\", shore), d(bank: \"берег\", storage))"
   ]
  },
  {
   "cell_type": "code",
   "execution_count": 15,
   "metadata": {},
   "outputs": [
    {
     "name": "stdout",
     "output_type": "stream",
     "text": [
      "min d(bank: \"берег\", shore): 3\n",
      "closest lemma definition: the land along the edge of a body of water\n",
      "\n",
      "min d(bank: \"берег\", storage): 7\n",
      "closest lemma definition: an electronic memory device\n",
      "\n",
      "min d(bank: \"банк\", shore): 11\n",
      "closest lemma definition: the land along the edge of a body of water\n",
      "\n",
      "min d(bank: \"банк\", storage): 13\n",
      "closest lemma definition: the commercial enterprise of storing goods and materials\n",
      "\n",
      "min (d(bank: \"берег\", shore), d(bank: \"берег\", storage)): 3\n",
      "min (d(bank: \"банк\", shore), d(bank: \"банк\", storage)): 11\n"
     ]
    }
   ],
   "source": [
    "shore = wordnet.synsets('shore')\n",
    "storage = wordnet.synsets('storage')\n",
    "\n",
    "def get_dist_sim(ss1, lexeme):\n",
    "    distances = []\n",
    "    similarities = []\n",
    "    for ss2 in lexeme:\n",
    "        dist = ss1.shortest_path_distance(ss2)\n",
    "        if dist is not None:\n",
    "            distances.append(dist)\n",
    "            sim = ss1.path_similarity(ss2)\n",
    "            similarities.append(sim)\n",
    "    return distances, similarities\n",
    "\n",
    "# min d(bank: \"берег\", shore)\n",
    "dist1 = get_dist_sim(bank[0], shore)[0]\n",
    "print('min d(bank: \"берег\", shore): {}'.format(min(dist1)))\n",
    "print('closest lemma definition: {}\\n'.format(shore[dist1.index(min(dist1))].definition()))\n",
    "\n",
    "# min d(bank: \"берег\", storage)\n",
    "dist2 = get_dist_sim(bank[0], storage)[0]\n",
    "print('min d(bank: \"берег\", storage): {}'.format(min(dist2)))\n",
    "print('closest lemma definition: {}\\n'.format(storage[dist2.index(min(dist2))].definition()))\n",
    "\n",
    "# min d(bank: \"банк\", shore)\n",
    "dist3 = get_dist_sim(bank[1], shore)[0]\n",
    "print('min d(bank: \"банк\", shore): {}'.format(min(dist3)))\n",
    "print('closest lemma definition: {}\\n'.format(shore[dist3.index(min(dist3))].definition()))\n",
    "\n",
    "# min d(bank: \"банк\", storage)\n",
    "dist4 = get_dist_sim(bank[1], storage)[0]\n",
    "print('min d(bank: \"банк\", storage): {}'.format(min(dist4)))\n",
    "print('closest lemma definition: {}\\n'.format(storage[dist4.index(min(dist4))].definition()))\n",
    "\n",
    "print('min (d(bank: \"берег\", shore), d(bank: \"берег\", storage)): {}'.format(min(min(dist1), min(dist2))))\n",
    "print('min (d(bank: \"банк\", shore), d(bank: \"банк\", storage)): {}'.format(min(min(dist3), min(dist4))))"
   ]
  },
  {
   "cell_type": "markdown",
   "metadata": {},
   "source": [
    "Кратчайшее расстояние от берега до shore -- 3, определение очень точное. До storage расстояние длиннее, что логично, хотя не на очень много-то. От банка до shore расстояние еще дальше, что хорошо, а вот между банком и storage расстояние больше всего, но возможно это потому что я подобрала не очень хороший синоним. Зато хорошее определение :)"
   ]
  }
 ],
 "metadata": {
  "kernelspec": {
   "display_name": "Python 3",
   "language": "python",
   "name": "python3"
  },
  "language_info": {
   "codemirror_mode": {
    "name": "ipython",
    "version": 3
   },
   "file_extension": ".py",
   "mimetype": "text/x-python",
   "name": "python",
   "nbconvert_exporter": "python",
   "pygments_lexer": "ipython3",
   "version": "3.6.2"
  }
 },
 "nbformat": 4,
 "nbformat_minor": 2
}
